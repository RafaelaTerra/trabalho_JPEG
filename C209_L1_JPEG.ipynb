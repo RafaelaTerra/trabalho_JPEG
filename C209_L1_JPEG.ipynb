{
 "cells": [
  {
   "cell_type": "markdown",
   "metadata": {},
   "source": [
    "# Projeto de C209-L1 ->  JPEG\n",
    "\n",
    "Alunos: \n",
    "Ana Luiza Silva Terra\n",
    "Gabriela Almada Paranhos de Melo\n",
    "Rafaela Monteiro Terra\n",
    "\n",
    "\n"
   ]
  },
  {
   "cell_type": "markdown",
   "metadata": {},
   "source": [
    "### Historia\n",
    "\n",
    "* Data de criação 1990;\n",
    "* Criado por Eric Hamilton (C-Cube Microsystems), e actualmente a Joint Photographic Experts Group.\n",
    "* Ultima versão lançada dia 27 de Março de 1998;\n",
    "* Variantes: .jtif ; .jp2 ; .jpx ; .jng;"
   ]
  },
  {
   "cell_type": "markdown",
   "metadata": {},
   "source": [
    "### Introdução\n",
    "* JPG (ou JPEG) é um método comum usado para comprimir imagens fotográficas;\n",
    "* O grau de redução pode ser ajustado, o que permite a você escolher o tamanho de armazenamento e seu compromisso com a     qualidade da imagem. Geralmente se obtém uma compressão pouco perceptível na perda de qualidade da imagem;\n",
    "* Criado por Eric Hamilton (C-Cube Microsystems), e actualmente a Joint Photographic Experts Group.\n",
    "* Ultima versão lançada dia 27 de Março de 1998;\n",
    "* Variantes: .jtif ; .jp2 ; .jpx ; .jng;"
   ]
  },
  {
   "cell_type": "markdown",
   "metadata": {},
   "source": [
    "### Compressão\n",
    "\n",
    "Por que comprimir dados?\n",
    "\n",
    "* Reduz necessidade de atualizar hardware (tal como discos rígidos com mais espaço);\n",
    "* Melhora eficiência de bancos de dados;\n",
    "* Backups mais velozes;\n",
    "* Pode aumentar a segurança de armazenamento (dados relevantes são mais difíceis de serem encontrados).\n",
    "\n",
    "\n",
    "#### Compressão sem perdas\n",
    "\n",
    "* Métodos de compressão sem perdas são aqueles que permitem a restauração da informação original em sua totalidade;\n",
    "* Nenhuma informação é perdida;\n",
    "* São usados em situações em que perdas não são aceitáveis (e.g. imagens médicas, biometria, aplicações legais etc);\n",
    "* As vezes são utilizados conjuntamente com processos de compressão com perdas, como o JPEG.\n",
    "\n",
    "#### Compressão com perda\n",
    "\n",
    "* Comumente utilizado para compressão de imagens, áudio e vídeo;\n",
    "* Frequentemente trabalha-se em outro domínio (e.g.: domínio da frequência);\n",
    "* Tentam se adequar baseado nos limites da percepção;\n",
    "* Normalmente as perdas são irreversíveis.\n",
    "\n",
    "\n"
   ]
  },
  {
   "cell_type": "markdown",
   "metadata": {},
   "source": [
    "### Visão geral do algoritmo\n",
    "\n",
    "O fluxo de compressão de um JPEG é realizado com os seguintes passos:\n",
    "* A imagem é convertida para um espaço de cores baseado em crominância, tal como o [YCbCr](https://en.wikipedia.org/wiki/YCbCr);\n",
    "* Fazer a subamostragem dos componentes de crominância;\n",
    "    * Estes espaços de cores se baseiam no fato que a visão humana é menos sensível à crominância;\n",
    "    * Com isso, é possível remover dados referentes à crominância em blocos de tamanhos pré definidos, visto que essa remoção é imperceptível;\n",
    "* Aplicar a DCT em blocos 8x8;\n",
    "* Quantizar cada bloco;\n",
    "* Codificar os dados com algum método de compressão para remover redundâncias, com codificação zigzag, tal como RLE seguido de Huffman.\n"
   ]
  },
  {
   "cell_type": "markdown",
   "metadata": {},
   "source": [
    "### Código:\n",
    "\n"
   ]
  },
  {
   "cell_type": "code",
   "execution_count": 5,
   "metadata": {},
   "outputs": [],
   "source": [
    "import cv2\n",
    "import numpy as np\n",
    "import scipy.fftpack as fftpack\n",
    "import zlib\n",
    "\n",
    "def encode_ycbcr(im):\n",
    "    xform = np.array([[.299, .587, .114], [-.1687, -.3313, .5], [.5, -.4187, -.0813]])\n",
    "    ycbcr = im.dot(xform.T)\n",
    "    ycbcr[:,:,[1,2]] += 128\n",
    "    return np.uint8(ycbcr)\n",
    "\n",
    "def decode_ycbcr(im):\n",
    "    xform = np.array([[1, 0, 1.402], [1, -0.34414, -.71414], [1, 1.772, 0]])\n",
    "    rgb = im.astype(np.float)\n",
    "    rgb[:,:,[1,2]] -= 128\n",
    "    rgb = rgb.dot(xform.T)\n",
    "    np.putmask(rgb, rgb > 255, 255)\n",
    "    np.putmask(rgb, rgb < 0, 0)\n",
    "    return np.uint8(rgb)\n",
    "\n",
    "def encode_dct(orig, bx, by):\n",
    "    new_shape = (\n",
    "        orig.shape[0] // bx * bx,\n",
    "        orig.shape[1] // by * by,\n",
    "        3\n",
    "    )\n",
    "    new = orig[\n",
    "        :new_shape[0],\n",
    "        :new_shape[1]\n",
    "    ].reshape((\n",
    "        new_shape[0] // bx,\n",
    "        bx,\n",
    "        new_shape[1] // by,\n",
    "        by,\n",
    "        3\n",
    "    ))\n",
    "    return fftpack.dctn(new, axes=[1,3], norm='ortho')\n",
    "\n",
    "\n",
    "def decode_dct(orig, bx, by):\n",
    "    return fftpack.idctn(orig, axes=[1,3], norm='ortho'\n",
    "    ).reshape((\n",
    "        orig.shape[0]*bx,\n",
    "        orig.shape[2]*by,\n",
    "        3\n",
    "    ))\n",
    "\n",
    "def encode_quant(orig, quant):\n",
    "    return (orig / quant).astype(np.int)\n",
    "\n",
    "\n",
    "def decode_quant(orig, quant):\n",
    "    return (orig * quant).astype(float)\n",
    "\n",
    "def encode_zip(x):\n",
    "    return zlib.compress(x.astype(np.int8).tobytes())\n",
    "\n",
    "\n",
    "def decode_zip(orig, shape):\n",
    "    return np.frombuffer(zlib.decompress(orig), dtype=np.int8).astype(float).reshape(shape)\n",
    "\n",
    "if __name__ == '__main__':\n",
    "    im = cv2.imread(\"inatel.jpeg\")\n",
    "    quants = [5, 10]\n",
    "    blocks = [(16, 16), (32, 32)]\n",
    "    for qscale in quants:\n",
    "        for bx, by in blocks:\n",
    "\n",
    "            quant = (\n",
    "                (np.ones((bx, by)) * (qscale * qscale))\n",
    "                .clip(-100, 100)\n",
    "                .reshape((1, bx, 1, by, 1))\n",
    "            )\n",
    "            ency = encode_ycbcr(im)\n",
    "            encd = encode_dct(ency, bx, by)\n",
    "            encq = encode_quant(encd, quant)\n",
    "            encz = encode_zip(encq)\n",
    "            decz = decode_zip(encz, encq.shape)\n",
    "            decq = decode_quant(encq, quant)\n",
    "            decd = decode_dct(decq, bx, by)\n",
    "            decy = decode_ycbcr(decd)\n",
    "            cv2.imwrite(\"inatel_quant_{}_block_{}x{}.jpeg\".format(qscale, bx, by), decy.astype(np.uint8))"
   ]
  },
  {
   "cell_type": "markdown",
   "metadata": {},
   "source": [
    "### Conclusão:\n",
    "* O JPEG é uma excelente extensão para se trabalhar e umas das mais populares, muito indicado para fotografia, é o formato predominante das camêras digitais.\n",
    "* O JPEG quando processado têm uma excelente eficiência em relação ao tamanho da imagem, resultando num arquivo menor.\n",
    "* Também e compativel com a maioria dos dispositivos e softwares.\n",
    "* Com isso, o JPEG é um ótimo formato para uma foto.\n"
   ]
  },
  {
   "cell_type": "markdown",
   "metadata": {},
   "source": [
    "### Referências:\n",
    "* https://pt.wikipedia.org/wiki/JPEG\n",
    "* http://www2.dcc.ufmg.br/disciplinas/ii/ii05-1/seminario/jpeg.pdf\n",
    "* https://www.alice.cnptia.embrapa.br/alice/bitstream/doc/17224/1/1390.pdf\n",
    "* https://www.youtube.com/watch?v=E5paqwlM0uw\n",
    "* https://www.youtube.com/watch?v=PHrYZUN-pW0\n",
    "* https://github.com/changhsinlee/software-for-science"
   ]
  }
 ],
 "metadata": {
  "kernelspec": {
   "display_name": "Python 3",
   "language": "python",
   "name": "python3"
  },
  "language_info": {
   "codemirror_mode": {
    "name": "ipython",
    "version": 3
   },
   "file_extension": ".py",
   "mimetype": "text/x-python",
   "name": "python",
   "nbconvert_exporter": "python",
   "pygments_lexer": "ipython3",
   "version": "3.6.4"
  }
 },
 "nbformat": 4,
 "nbformat_minor": 4
}
